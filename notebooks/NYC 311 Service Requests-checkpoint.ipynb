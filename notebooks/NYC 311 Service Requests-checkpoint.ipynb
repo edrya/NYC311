{
 "cells": [
  {
   "cell_type": "markdown",
   "metadata": {},
   "source": [
    "## NYC 311 Complaint Dataset Analysis\n",
    "*By Amir Edry*"
   ]
  },
  {
   "cell_type": "markdown",
   "metadata": {},
   "source": [
    "This notebook uses data from NYC Open Data to answer the following questions:\n",
    "\n",
    "\n",
    "1. [Consider only the 10 most common overall complaint types. For each borough, how many of each of those 10 types were there in 2017?](#section_ID1)\n",
    "\n",
    "2. [Consider only the 10 most common overall complaint types.  For the 10 most populous zip codes, how many of each of those 10 types were there in 2017?](#section_ID3)\n",
    "\n",
    "3. [Considering all complaint types. Which boroughs are the biggest \"complainers\" relative to the size of the population in 2017? Meaning, calculate a complaint-index that adjusts for population of the borough.](#section_ID3)\n",
    "\n",
    "Data sets:\n",
    "1. 2010 US Census Population By Zip Code dataset(ZCTA)\n",
    "\n",
    "\n",
    "2. The dataset for the analysis can be download from [NYC Open Data](\"https://nycopendata.socrata.com/Social-Services/311-Service-Requests-from-2010-to-Present/erm2-nwe9\") or access programmaticly using [sodapy](\"https://github.com/xmunoz/sodapy\"), a Python client for the [Socrata Open Data API](\"https://dev.socrata.com/foundry/data.cityofnewyork.us/fhrw-4uyv\"). While the dataset includes all New York City 311 service requests from 2010 to the present, in this analysis I'll be focusing only on complanits made between January 1, 2017 to December 31, 2017.\n"
   ]
  },
  {
   "cell_type": "markdown",
   "metadata": {},
   "source": [
    "***"
   ]
  },
  {
   "cell_type": "markdown",
   "metadata": {},
   "source": [
    "<font style=\"color:rgba(0, 0, 0, 0.8); font-size:18px; font-style: italic;\">Load the 311 service requests data set</font>\n",
    "\n",
    "The first thing to do is to read the *311-service-requests-nyc-2017* dataset. This is the subset of the *\"311 Service Requests from 2010 to Present\"* dataset. It includes four columns with 2,445,422 rows. It was downloaded as a CSV file from NYC Open Data and is available in the \"data\" folder."
   ]
  },
  {
   "cell_type": "markdown",
   "metadata": {},
   "source": [
    "\n",
    "\n"
   ]
  },
  {
   "cell_type": "code",
   "execution_count": 4,
   "metadata": {},
   "outputs": [],
   "source": [
    "import pandas as pd\n",
    "import numpy  as np\n",
    "import json\n"
   ]
  },
  {
   "cell_type": "code",
   "execution_count": 12,
   "metadata": {},
   "outputs": [],
   "source": [
    "# Read in the 311 Service Requests data set for 2017\n",
    "data = pd.read_csv('../src/data/311-service-requests-nyc-2017.csv',\n",
    "                            header=0,\n",
    "                            names=['created_date', 'borough', 'complaint_type', 'incident_zip'],\n",
    "                            dtype = np.object)\n",
    "\n",
    "# Read in the 2010 US Census Population By Zip Code dataset\n",
    "population = pd.read_csv('../src/data/ztca.csv', header=0,  names=['incident_zip','population'], \n",
    "                         dtype = np.object)"
   ]
  },
  {
   "cell_type": "markdown",
   "metadata": {},
   "source": [
    "***"
   ]
  },
  {
   "cell_type": "markdown",
   "metadata": {},
   "source": [
    "<font style=\"color:rgba(0, 0, 0, 0.8); font-size:18px; font-style: italic;\">Explore the data set</font>\n",
    "\n",
    "*Find out information such as shape of the data set, types of the data, and missing values with focus on the Borough , Complaint Type, and Incident Zip Code columns*"
   ]
  },
  {
   "cell_type": "code",
   "execution_count": 13,
   "metadata": {},
   "outputs": [
    {
     "data": {
      "text/html": [
       "<div>\n",
       "<style scoped>\n",
       "    .dataframe tbody tr th:only-of-type {\n",
       "        vertical-align: middle;\n",
       "    }\n",
       "\n",
       "    .dataframe tbody tr th {\n",
       "        vertical-align: top;\n",
       "    }\n",
       "\n",
       "    .dataframe thead th {\n",
       "        text-align: right;\n",
       "    }\n",
       "</style>\n",
       "<table border=\"1\" class=\"dataframe\">\n",
       "  <thead>\n",
       "    <tr style=\"text-align: right;\">\n",
       "      <th></th>\n",
       "      <th>created_date</th>\n",
       "      <th>borough</th>\n",
       "      <th>complaint_type</th>\n",
       "      <th>incident_zip</th>\n",
       "    </tr>\n",
       "  </thead>\n",
       "  <tbody>\n",
       "    <tr>\n",
       "      <th>0</th>\n",
       "      <td>2017-01-01T00:00:00.000</td>\n",
       "      <td>BROOKLYN</td>\n",
       "      <td>Rodent</td>\n",
       "      <td>11234</td>\n",
       "    </tr>\n",
       "    <tr>\n",
       "      <th>1</th>\n",
       "      <td>2017-01-01T00:00:00.000</td>\n",
       "      <td>BROOKLYN</td>\n",
       "      <td>Rodent</td>\n",
       "      <td>11249</td>\n",
       "    </tr>\n",
       "    <tr>\n",
       "      <th>2</th>\n",
       "      <td>2017-01-01T00:00:00.000</td>\n",
       "      <td>QUEENS</td>\n",
       "      <td>Rodent</td>\n",
       "      <td>11435</td>\n",
       "    </tr>\n",
       "    <tr>\n",
       "      <th>3</th>\n",
       "      <td>2017-01-01T00:00:00.000</td>\n",
       "      <td>QUEENS</td>\n",
       "      <td>Food Poisoning</td>\n",
       "      <td>11372</td>\n",
       "    </tr>\n",
       "    <tr>\n",
       "      <th>4</th>\n",
       "      <td>2017-01-01T00:00:00.000</td>\n",
       "      <td>QUEENS</td>\n",
       "      <td>Food Poisoning</td>\n",
       "      <td>11105</td>\n",
       "    </tr>\n",
       "  </tbody>\n",
       "</table>\n",
       "</div>"
      ],
      "text/plain": [
       "              created_date   borough  complaint_type incident_zip\n",
       "0  2017-01-01T00:00:00.000  BROOKLYN          Rodent        11234\n",
       "1  2017-01-01T00:00:00.000  BROOKLYN          Rodent        11249\n",
       "2  2017-01-01T00:00:00.000    QUEENS          Rodent        11435\n",
       "3  2017-01-01T00:00:00.000    QUEENS  Food Poisoning        11372\n",
       "4  2017-01-01T00:00:00.000    QUEENS  Food Poisoning        11105"
      ]
     },
     "execution_count": 13,
     "metadata": {},
     "output_type": "execute_result"
    }
   ],
   "source": [
    "data.head()"
   ]
  },
  {
   "cell_type": "code",
   "execution_count": 14,
   "metadata": {},
   "outputs": [
    {
     "name": "stdout",
     "output_type": "stream",
     "text": [
      "<class 'pandas.core.frame.DataFrame'>\n",
      "RangeIndex: 2445422 entries, 0 to 2445421\n",
      "Data columns (total 4 columns):\n",
      "created_date      object\n",
      "borough           object\n",
      "complaint_type    object\n",
      "incident_zip      object\n",
      "dtypes: object(4)\n",
      "memory usage: 74.6+ MB\n"
     ]
    }
   ],
   "source": [
    "data.info()"
   ]
  },
  {
   "cell_type": "code",
   "execution_count": 15,
   "metadata": {},
   "outputs": [
    {
     "data": {
      "text/plain": [
       "(2445422, 4)"
      ]
     },
     "execution_count": 15,
     "metadata": {},
     "output_type": "execute_result"
    }
   ],
   "source": [
    "data.shape"
   ]
  },
  {
   "cell_type": "code",
   "execution_count": 16,
   "metadata": {},
   "outputs": [
    {
     "data": {
      "text/plain": [
       "created_date           0\n",
       "borough                0\n",
       "complaint_type         0\n",
       "incident_zip      102157\n",
       "dtype: int64"
      ]
     },
     "execution_count": 16,
     "metadata": {},
     "output_type": "execute_result"
    }
   ],
   "source": [
    "data.isnull().sum()"
   ]
  },
  {
   "cell_type": "markdown",
   "metadata": {},
   "source": [
    "<font style=\"color:rgba(0, 0, 0, 0.8); font-size:16px; font-style: italic;\">Examine the Borough column</font>"
   ]
  },
  {
   "cell_type": "code",
   "execution_count": 17,
   "metadata": {},
   "outputs": [
    {
     "data": {
      "text/plain": [
       "['BROOKLYN', 'QUEENS', 'MANHATTAN', 'BRONX', 'STATEN ISLAND', 'Unspecified']"
      ]
     },
     "execution_count": 17,
     "metadata": {},
     "output_type": "execute_result"
    }
   ],
   "source": [
    "data['borough'].unique().tolist()"
   ]
  },
  {
   "cell_type": "code",
   "execution_count": 18,
   "metadata": {},
   "outputs": [
    {
     "data": {
      "text/plain": [
       "BROOKLYN         760965\n",
       "QUEENS           586910\n",
       "MANHATTAN        480298\n",
       "BRONX            449048\n",
       "STATEN ISLAND    126715\n",
       "Unspecified       41486\n",
       "Name: borough, dtype: int64"
      ]
     },
     "execution_count": 18,
     "metadata": {},
     "output_type": "execute_result"
    }
   ],
   "source": [
    "data['borough'].value_counts()"
   ]
  },
  {
   "cell_type": "markdown",
   "metadata": {},
   "source": [
    "<font style=\"color:rgba(0, 0, 0, 0.8); font-size:16px; font-style: italic;\">Examine the Complaint Type column</font>"
   ]
  },
  {
   "cell_type": "code",
   "execution_count": 19,
   "metadata": {},
   "outputs": [
    {
     "name": "stdout",
     "output_type": "stream",
     "text": [
      "Number of unique complaint types: 222\n",
      "Most frequent Complaint Type: Noise - Residential\n"
     ]
    }
   ],
   "source": [
    "print('Number of unique complaint types:', len(data['complaint_type'].unique()))\n",
    "print('Most frequent Complaint Type:', data['complaint_type'].value_counts().idxmax())"
   ]
  },
  {
   "cell_type": "markdown",
   "metadata": {},
   "source": [
    "<font style=\"color:rgba(0, 0, 0, 0.8); font-size:16px; font-style: italic;\">Examine the Incident Zip Code column</font>"
   ]
  },
  {
   "cell_type": "code",
   "execution_count": 20,
   "metadata": {},
   "outputs": [
    {
     "name": "stdout",
     "output_type": "stream",
     "text": [
      "Most frequent Complaint Type: 11226    42131\n",
      "11385    35089\n",
      "10467    34084\n",
      "11207    30778\n",
      "10453    29705\n",
      "Name: incident_zip, dtype: int64\n"
     ]
    }
   ],
   "source": [
    "len(data['incident_zip'].unique())\n",
    "print('Most frequent Complaint Type:', data['incident_zip'].value_counts().head())"
   ]
  },
  {
   "cell_type": "code",
   "execution_count": 21,
   "metadata": {},
   "outputs": [],
   "source": [
    "# Drop rows with missing borough value\n",
    "complaint = data.loc[data['borough'] != 'Unspecified']"
   ]
  },
  {
   "cell_type": "code",
   "execution_count": 22,
   "metadata": {},
   "outputs": [
    {
     "data": {
      "text/plain": [
       "['BROOKLYN', 'QUEENS', 'MANHATTAN', 'BRONX', 'STATEN ISLAND']"
      ]
     },
     "execution_count": 22,
     "metadata": {},
     "output_type": "execute_result"
    }
   ],
   "source": [
    "complaint['borough'].unique().tolist()"
   ]
  },
  {
   "cell_type": "markdown",
   "metadata": {},
   "source": [
    " ***<a id=\"section_ID1\">QUESTION ONE. TOP COMPLAINTS BY BOROUGH</a>***"
   ]
  },
  {
   "cell_type": "code",
   "execution_count": 23,
   "metadata": {},
   "outputs": [
    {
     "data": {
      "text/plain": [
       "Noise - Residential        229458\n",
       "HEAT/HOT WATER             213521\n",
       "Illegal Parking            144828\n",
       "Blocked Driveway           135059\n",
       "Street Condition            93222\n",
       "Street Light Condition      82807\n",
       "UNSANITARY CONDITION        79282\n",
       "Noise - Street/Sidewalk     72868\n",
       "Water System                65096\n",
       "Noise                       60168\n",
       "Name: complaint_type, dtype: int64"
      ]
     },
     "execution_count": 23,
     "metadata": {},
     "output_type": "execute_result"
    }
   ],
   "source": [
    "# Top ten most frequently occurring complaint types\n",
    "top_ten_complaints = complaint['complaint_type'].value_counts().head(10)\n",
    "top_ten_complaints"
   ]
  },
  {
   "cell_type": "code",
   "execution_count": 24,
   "metadata": {},
   "outputs": [],
   "source": [
    "top_complaints = complaint.loc[complaint['complaint_type'].isin(top_ten_complaints.index.tolist())]"
   ]
  },
  {
   "cell_type": "code",
   "execution_count": 25,
   "metadata": {},
   "outputs": [
    {
     "data": {
      "text/html": [
       "<div>\n",
       "<style scoped>\n",
       "    .dataframe tbody tr th:only-of-type {\n",
       "        vertical-align: middle;\n",
       "    }\n",
       "\n",
       "    .dataframe tbody tr th {\n",
       "        vertical-align: top;\n",
       "    }\n",
       "\n",
       "    .dataframe thead th {\n",
       "        text-align: right;\n",
       "    }\n",
       "</style>\n",
       "<table border=\"1\" class=\"dataframe\">\n",
       "  <thead>\n",
       "    <tr style=\"text-align: right;\">\n",
       "      <th></th>\n",
       "      <th>created_date</th>\n",
       "      <th>borough</th>\n",
       "      <th>complaint_type</th>\n",
       "      <th>incident_zip</th>\n",
       "    </tr>\n",
       "  </thead>\n",
       "  <tbody>\n",
       "    <tr>\n",
       "      <th>35</th>\n",
       "      <td>2017-01-01T00:00:59.000</td>\n",
       "      <td>BRONX</td>\n",
       "      <td>HEAT/HOT WATER</td>\n",
       "      <td>10467</td>\n",
       "    </tr>\n",
       "    <tr>\n",
       "      <th>36</th>\n",
       "      <td>2017-01-01T00:01:43.000</td>\n",
       "      <td>QUEENS</td>\n",
       "      <td>Blocked Driveway</td>\n",
       "      <td>11368</td>\n",
       "    </tr>\n",
       "    <tr>\n",
       "      <th>37</th>\n",
       "      <td>2017-01-01T00:02:54.000</td>\n",
       "      <td>BROOKLYN</td>\n",
       "      <td>Noise - Residential</td>\n",
       "      <td>11209</td>\n",
       "    </tr>\n",
       "    <tr>\n",
       "      <th>38</th>\n",
       "      <td>2017-01-01T00:03:41.000</td>\n",
       "      <td>MANHATTAN</td>\n",
       "      <td>Noise - Residential</td>\n",
       "      <td>10040</td>\n",
       "    </tr>\n",
       "    <tr>\n",
       "      <th>39</th>\n",
       "      <td>2017-01-01T00:03:42.000</td>\n",
       "      <td>BRONX</td>\n",
       "      <td>HEAT/HOT WATER</td>\n",
       "      <td>10470</td>\n",
       "    </tr>\n",
       "  </tbody>\n",
       "</table>\n",
       "</div>"
      ],
      "text/plain": [
       "               created_date    borough       complaint_type incident_zip\n",
       "35  2017-01-01T00:00:59.000      BRONX       HEAT/HOT WATER        10467\n",
       "36  2017-01-01T00:01:43.000     QUEENS     Blocked Driveway        11368\n",
       "37  2017-01-01T00:02:54.000   BROOKLYN  Noise - Residential        11209\n",
       "38  2017-01-01T00:03:41.000  MANHATTAN  Noise - Residential        10040\n",
       "39  2017-01-01T00:03:42.000      BRONX       HEAT/HOT WATER        10470"
      ]
     },
     "execution_count": 25,
     "metadata": {},
     "output_type": "execute_result"
    }
   ],
   "source": [
    "top_complaints.head()"
   ]
  },
  {
   "cell_type": "markdown",
   "metadata": {},
   "source": [
    "***TOP 10 COMPLAINTS BY BOROUGH***"
   ]
  },
  {
   "cell_type": "code",
   "execution_count": 26,
   "metadata": {},
   "outputs": [
    {
     "data": {
      "text/plain": [
       "borough        complaint_type         \n",
       "BRONX          HEAT/HOT WATER             68718\n",
       "               Noise - Residential        57663\n",
       "               Blocked Driveway           24574\n",
       "               UNSANITARY CONDITION       24561\n",
       "               Street Light Condition     18410\n",
       "               Illegal Parking            16122\n",
       "               Noise - Street/Sidewalk    14025\n",
       "               Street Condition           11761\n",
       "               Water System               10217\n",
       "               Noise                       3134\n",
       "BROOKLYN       Noise - Residential        67629\n",
       "               HEAT/HOT WATER             66984\n",
       "               Illegal Parking            55380\n",
       "               Blocked Driveway           49302\n",
       "               UNSANITARY CONDITION       26659\n",
       "               Street Condition           25432\n",
       "               Street Light Condition     22458\n",
       "               Noise - Street/Sidewalk    21313\n",
       "               Water System               19809\n",
       "               Noise                      15421\n",
       "MANHATTAN      Noise - Residential        51026\n",
       "               HEAT/HOT WATER             46529\n",
       "               Noise - Street/Sidewalk    29147\n",
       "               Noise                      29002\n",
       "               Illegal Parking            19687\n",
       "               Street Condition           14840\n",
       "               UNSANITARY CONDITION       14635\n",
       "               Street Light Condition     11077\n",
       "               Water System               10929\n",
       "               Blocked Driveway            3428\n",
       "QUEENS         Blocked Driveway           54290\n",
       "               Noise - Residential        46396\n",
       "               Illegal Parking            46065\n",
       "               Street Condition           30629\n",
       "               HEAT/HOT WATER             29217\n",
       "               Street Light Condition     24258\n",
       "               Water System               18792\n",
       "               UNSANITARY CONDITION       11474\n",
       "               Noise                      10685\n",
       "               Noise - Street/Sidewalk     7530\n",
       "STATEN ISLAND  Street Condition           10560\n",
       "               Illegal Parking             7574\n",
       "               Noise - Residential         6744\n",
       "               Street Light Condition      6604\n",
       "               Water System                5349\n",
       "               Blocked Driveway            3465\n",
       "               HEAT/HOT WATER              2073\n",
       "               UNSANITARY CONDITION        1953\n",
       "               Noise                       1926\n",
       "               Noise - Street/Sidewalk      853\n",
       "Name: complaint_type, dtype: int64"
      ]
     },
     "execution_count": 26,
     "metadata": {},
     "output_type": "execute_result"
    }
   ],
   "source": [
    "top_complaints['complaint_type'].groupby(top_complaints['borough']).value_counts()"
   ]
  },
  {
   "cell_type": "markdown",
   "metadata": {},
   "source": [
    "***"
   ]
  },
  {
   "cell_type": "markdown",
   "metadata": {},
   "source": [
    "***<a id=\"section_ID2\">QUESTION TWO. TOP COMPLAINTS BY ZIP CODES</a>***"
   ]
  },
  {
   "cell_type": "code",
   "execution_count": 27,
   "metadata": {},
   "outputs": [],
   "source": [
    "# Consider only the 10 most common overall complaint types (the top_complaint DataFrame).\n",
    "# Join the two DataFrames (top_complaints, population) based on the incident_zip key.\n",
    "\n",
    "complaint_by_zipcode = top_complaints.merge(population)\n",
    "complaint_by_zipcode['population'] = complaint_by_zipcode['population'].astype('int')"
   ]
  },
  {
   "cell_type": "code",
   "execution_count": 30,
   "metadata": {},
   "outputs": [
    {
     "data": {
      "text/plain": [
       "array(['11368', '11226', '11373', '11220', '11385', '10467', '10025',\n",
       "       '11208', '11236', '11207'], dtype=object)"
      ]
     },
     "execution_count": 30,
     "metadata": {},
     "output_type": "execute_result"
    }
   ],
   "source": [
    "# Top 10 most populous zip codes \n",
    "top_zipcodes = complaint_by_zipcode.drop_duplicates(['incident_zip'])\n",
    "top_zipcodes = top_zipcodes.sort_values(by='population', ascending=False)\n",
    "\n",
    "top_ten_zipcode = top_zipcodes['incident_zip'].values[:10]\n",
    "top_ten_zipcode"
   ]
  },
  {
   "cell_type": "markdown",
   "metadata": {},
   "source": [
    "***TOP 10 COMPLAINTS BY TOP 10 POPULOUS ZIP CODES***"
   ]
  },
  {
   "cell_type": "code",
   "execution_count": 31,
   "metadata": {},
   "outputs": [
    {
     "data": {
      "text/plain": [
       "incident_zip  complaint_type         \n",
       "10025         HEAT/HOT WATER             2397\n",
       "              Noise - Residential        2085\n",
       "              Noise                      1398\n",
       "              Noise - Street/Sidewalk    1224\n",
       "              Illegal Parking             735\n",
       "              UNSANITARY CONDITION        714\n",
       "              Street Condition            628\n",
       "              Water System                481\n",
       "              Blocked Driveway            125\n",
       "              Street Light Condition       21\n",
       "10467         HEAT/HOT WATER             6041\n",
       "              Noise - Residential        5803\n",
       "              UNSANITARY CONDITION       2192\n",
       "              Blocked Driveway           2067\n",
       "              Illegal Parking             982\n",
       "              Noise - Street/Sidewalk     712\n",
       "              Street Condition            612\n",
       "              Water System                560\n",
       "              Street Light Condition      407\n",
       "              Noise                       285\n",
       "11207         Noise - Residential        3060\n",
       "              HEAT/HOT WATER             2461\n",
       "              Blocked Driveway           2061\n",
       "              UNSANITARY CONDITION       1621\n",
       "              Illegal Parking            1495\n",
       "              Street Condition           1142\n",
       "              Street Light Condition      932\n",
       "              Water System                757\n",
       "              Noise - Street/Sidewalk     558\n",
       "              Noise                       199\n",
       "                                         ... \n",
       "11368         Blocked Driveway           4380\n",
       "              Noise - Residential        2460\n",
       "              HEAT/HOT WATER             1620\n",
       "              Illegal Parking            1250\n",
       "              Noise - Street/Sidewalk     684\n",
       "              UNSANITARY CONDITION        639\n",
       "              Water System                617\n",
       "              Street Condition            561\n",
       "              Street Light Condition      444\n",
       "              Noise                       158\n",
       "11373         HEAT/HOT WATER             3408\n",
       "              Blocked Driveway           2623\n",
       "              Noise - Residential        1841\n",
       "              Illegal Parking            1270\n",
       "              UNSANITARY CONDITION        756\n",
       "              Street Condition            691\n",
       "              Water System                372\n",
       "              Street Light Condition      362\n",
       "              Noise - Street/Sidewalk     304\n",
       "              Noise                       270\n",
       "11385         Illegal Parking            4129\n",
       "              Blocked Driveway           3039\n",
       "              Noise - Residential        2609\n",
       "              HEAT/HOT WATER             1526\n",
       "              Water System               1240\n",
       "              Street Condition           1232\n",
       "              Street Light Condition      791\n",
       "              UNSANITARY CONDITION        647\n",
       "              Noise - Street/Sidewalk     607\n",
       "              Noise                       507\n",
       "Name: complaint_type, Length: 100, dtype: int64"
      ]
     },
     "execution_count": 31,
     "metadata": {},
     "output_type": "execute_result"
    }
   ],
   "source": [
    "top_complaint_by_populous_zipcode = complaint_by_zipcode[complaint_by_zipcode.incident_zip.isin(top_ten_zipcode)]\n",
    "top_complaint_by_populous_zipcode['complaint_type'].groupby(\n",
    "    top_complaint_by_populous_zipcode['incident_zip']).value_counts()"
   ]
  },
  {
   "cell_type": "markdown",
   "metadata": {},
   "source": [
    "***"
   ]
  },
  {
   "cell_type": "markdown",
   "metadata": {},
   "source": [
    "***<a id=\"section_ID3\">QUESTION THREE. COMPLAINT INDEX</a>***"
   ]
  },
  {
   "cell_type": "code",
   "execution_count": 32,
   "metadata": {},
   "outputs": [],
   "source": [
    "# Drop rows with missing borough value\n",
    "complaint = data.loc[data['borough'] != 'Unspecified']"
   ]
  },
  {
   "cell_type": "code",
   "execution_count": 33,
   "metadata": {},
   "outputs": [],
   "source": [
    "complaint_population = complaint.merge(population)\n",
    "complaint_population['population'] = complaint_population['population'].astype('int')\n"
   ]
  },
  {
   "cell_type": "code",
   "execution_count": 34,
   "metadata": {},
   "outputs": [
    {
     "data": {
      "text/plain": [
       "borough\n",
       "BRONX            432982\n",
       "BROOKLYN         737359\n",
       "MANHATTAN        461523\n",
       "QUEENS           571610\n",
       "STATEN ISLAND    125506\n",
       "Name: complaint_type, dtype: int64"
      ]
     },
     "execution_count": 34,
     "metadata": {},
     "output_type": "execute_result"
    }
   ],
   "source": [
    "# Number of complaints per borough in 2017\n",
    "complaint_borough = complaint_population.groupby(['borough']).agg({'complaint_type': 'count'})['complaint_type']\n",
    "complaint_borough"
   ]
  },
  {
   "cell_type": "code",
   "execution_count": 35,
   "metadata": {},
   "outputs": [
    {
     "data": {
      "text/plain": [
       "borough\n",
       "BRONX            1437243\n",
       "BROOKLYN         2504700\n",
       "MANHATTAN        1595338\n",
       "QUEENS           2390901\n",
       "STATEN ISLAND     468730\n",
       "Name: population, dtype: int64"
      ]
     },
     "execution_count": 35,
     "metadata": {},
     "output_type": "execute_result"
    }
   ],
   "source": [
    "# The population of the boroughs of New York City \n",
    "population_borough = complaint_population.drop_duplicates(subset='incident_zip')\n",
    "total_population_borough = population_borough.groupby(['borough']).agg({'population': 'sum'})['population']\n",
    "total_population_borough"
   ]
  },
  {
   "cell_type": "code",
   "execution_count": 36,
   "metadata": {},
   "outputs": [
    {
     "data": {
      "text/plain": [
       "borough\n",
       "BRONX            0.301259\n",
       "BROOKLYN         0.294390\n",
       "MANHATTAN        0.289295\n",
       "QUEENS           0.239077\n",
       "STATEN ISLAND    0.267758\n",
       "dtype: float64"
      ]
     },
     "execution_count": 36,
     "metadata": {},
     "output_type": "execute_result"
    }
   ],
   "source": [
    "idx = complaint_borough/total_population_borough\n",
    "idx"
   ]
  }
 ],
 "metadata": {
  "kernelspec": {
   "display_name": "Python 3",
   "language": "python",
   "name": "python3"
  },
  "language_info": {
   "codemirror_mode": {
    "name": "ipython",
    "version": 3
   },
   "file_extension": ".py",
   "mimetype": "text/x-python",
   "name": "python",
   "nbconvert_exporter": "python",
   "pygments_lexer": "ipython3",
   "version": "3.6.4"
  }
 },
 "nbformat": 4,
 "nbformat_minor": 2
}
